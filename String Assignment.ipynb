{
 "cells": [
  {
   "cell_type": "markdown",
   "id": "b7b8ca3a",
   "metadata": {},
   "source": [
    "### 1. Ask the user to enter their first name and surname in lower case. Change the case to title case and join them together. Display the finished result."
   ]
  },
  {
   "cell_type": "code",
   "execution_count": 5,
   "id": "f3b41394",
   "metadata": {},
   "outputs": [
    {
     "name": "stdout",
     "output_type": "stream",
     "text": [
      "Name (in lower case) : arif\n",
      "Surname (in lower case) : aygun\n",
      "Arif Aygun\n"
     ]
    }
   ],
   "source": [
    "name = input(\"Name (in lower case) : \")\n",
    "surname = input(\"Surname (in lower case) : \")\n",
    "full_name = name + \" \" + surname\n",
    "print(full_name.title())"
   ]
  },
  {
   "cell_type": "markdown",
   "id": "96505292",
   "metadata": {},
   "source": [
    "### 2. Ask the user to type in the first line of a poem Raven by Edgar Allen Poe and display the length of the string. Ask for a starting number and an ending number and then display just that section of the text (remember Python starts counting from 0 and not 1). Here is the poem Raven:\n",
    "\n"
   ]
  },
  {
   "cell_type": "markdown",
   "id": "99dfbae1",
   "metadata": {},
   "source": [
    "Deep into that darkness peering,\n",
    "\n",
    "Long I stood there, wondering, fearing,\n",
    "\n",
    "Doubting, dreaming dreams no mortals\n",
    "\n",
    "Ever dared to dream before;\n",
    "\n",
    "But the silence was unbroken,\n",
    "\n",
    "And the stillness gave no token,\n",
    "\n",
    "And the only word there spoken\n",
    "\n",
    "Was the whispered word, \"Lenore!\"\n",
    "\n",
    "This I whispered, and an echo\n",
    "\n",
    "Murmured back the word, \"Lenore!\"\n",
    "\n",
    "Merely this, and nothing more."
   ]
  },
  {
   "cell_type": "code",
   "execution_count": 7,
   "id": "35f2e70d",
   "metadata": {},
   "outputs": [],
   "source": [
    "poem = \"\"\"Deep into that darkness peering,\n",
    "\n",
    "Long I stood there, wondering, fearing,\n",
    "\n",
    "Doubting, dreaming dreams no mortals\n",
    "\n",
    "Ever dared to dream before;\n",
    "\n",
    "But the silence was unbroken,\n",
    "\n",
    "And the stillness gave no token,\n",
    "\n",
    "And the only word there spoken\n",
    "\n",
    "Was the whispered word, \"Lenore!\"\n",
    "\n",
    "This I whispered, and an echo\n",
    "\n",
    "Murmured back the word, \"Lenore!\"\n",
    "\n",
    "Merely this, and nothing more.\"\"\""
   ]
  },
  {
   "cell_type": "code",
   "execution_count": 12,
   "id": "c7dcdbb3",
   "metadata": {},
   "outputs": [
    {
     "name": "stdout",
     "output_type": "stream",
     "text": [
      "Print the first line of a poem Raven by Edgar Allen Poe: Deep into that darkness peering,\n"
     ]
    },
    {
     "data": {
      "text/plain": [
       "32"
      ]
     },
     "execution_count": 12,
     "metadata": {},
     "output_type": "execute_result"
    }
   ],
   "source": [
    "first_line = input(\"Print the first line of a poem Raven by Edgar Allen Poe: \")\n",
    "first_line\n",
    "len(first_line)"
   ]
  },
  {
   "cell_type": "code",
   "execution_count": null,
   "id": "38f7fef7",
   "metadata": {},
   "outputs": [],
   "source": [
    "first_line = input(\"Print the first line of a poem Raven by Edgar Allen Poe: \")\n",
    "first_line\n",
    "len(first_line)"
   ]
  }
 ],
 "metadata": {
  "kernelspec": {
   "display_name": "Python 3 (ipykernel)",
   "language": "python",
   "name": "python3"
  },
  "language_info": {
   "codemirror_mode": {
    "name": "ipython",
    "version": 3
   },
   "file_extension": ".py",
   "mimetype": "text/x-python",
   "name": "python",
   "nbconvert_exporter": "python",
   "pygments_lexer": "ipython3",
   "version": "3.9.13"
  }
 },
 "nbformat": 4,
 "nbformat_minor": 5
}
