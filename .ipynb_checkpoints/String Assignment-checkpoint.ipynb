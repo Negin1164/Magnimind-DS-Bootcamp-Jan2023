{
 "cells": [
  {
   "cell_type": "markdown",
   "id": "fb7167f0",
   "metadata": {},
   "source": [
    "1. Ask the user to enter their first name and surname in lower case. Change the case to title case and join them together. Display the finished result."
   ]
  },
  {
   "cell_type": "code",
   "execution_count": 5,
   "id": "867bc8de",
   "metadata": {},
   "outputs": [
    {
     "name": "stdout",
     "output_type": "stream",
     "text": [
      "Name (in lower case) : arif\n",
      "Surname (in lower case) : aygun\n",
      "Arif Aygun\n"
     ]
    }
   ],
   "source": [
    "name = input(\"Name (in lower case) : \")\n",
    "surname = input(\"Surname (in lower case) : \")\n",
    "full_name = name + \" \" + surname\n",
    "print(full_name.title())"
   ]
  },
  {
   "cell_type": "code",
   "execution_count": null,
   "id": "51a44c24",
   "metadata": {},
   "outputs": [],
   "source": []
  }
 ],
 "metadata": {
  "kernelspec": {
   "display_name": "Python 3 (ipykernel)",
   "language": "python",
   "name": "python3"
  },
  "language_info": {
   "codemirror_mode": {
    "name": "ipython",
    "version": 3
   },
   "file_extension": ".py",
   "mimetype": "text/x-python",
   "name": "python",
   "nbconvert_exporter": "python",
   "pygments_lexer": "ipython3",
   "version": "3.9.13"
  }
 },
 "nbformat": 4,
 "nbformat_minor": 5
}
