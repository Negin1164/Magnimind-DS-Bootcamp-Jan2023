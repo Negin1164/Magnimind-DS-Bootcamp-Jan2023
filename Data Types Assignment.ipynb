{
 "cells": [
  {
   "cell_type": "markdown",
   "id": "c06d5570",
   "metadata": {},
   "source": [
    "### 1- Suppose you invested in Bitcoin at the end of 2020 when Bitcoin gained a lot of value. What would be your money at the end of a week if you had invested 1000 USD with an average daily increase of 12% ? You can solve the problem using Python."
   ]
  },
  {
   "cell_type": "markdown",
   "id": "6c98be73",
   "metadata": {},
   "source": [
    "Help\n",
    "\n",
    "Create a variable capital ($1000)\n",
    "\n",
    "Create a variable for daily growth (12%)\n",
    "\n",
    "Create a variable for period (7)\n",
    "\n",
    "Calculate the final growth rate\n",
    "\n",
    "Calculate result\n",
    "\n",
    "Print result"
   ]
  },
  {
   "cell_type": "code",
   "execution_count": null,
   "id": "d278bdb7",
   "metadata": {},
   "outputs": [],
   "source": []
  }
 ],
 "metadata": {
  "kernelspec": {
   "display_name": "Python 3 (ipykernel)",
   "language": "python",
   "name": "python3"
  },
  "language_info": {
   "codemirror_mode": {
    "name": "ipython",
    "version": 3
   },
   "file_extension": ".py",
   "mimetype": "text/x-python",
   "name": "python",
   "nbconvert_exporter": "python",
   "pygments_lexer": "ipython3",
   "version": "3.9.13"
  }
 },
 "nbformat": 4,
 "nbformat_minor": 5
}
